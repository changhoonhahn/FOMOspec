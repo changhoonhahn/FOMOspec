{
 "cells": [
  {
   "cell_type": "code",
   "execution_count": 1,
   "metadata": {},
   "outputs": [],
   "source": [
    "import fsps\n",
    "import numpy as np \n",
    "import astropy.units as u\n",
    "from astropy import units as U \n",
    "from astropy.cosmology import Planck13\n",
    "# -- fomospec\n",
    "from fomospec import util as UT\n",
    "# -- plotting --\n",
    "import matplotlib as mpl \n",
    "import matplotlib.pyplot as plt \n",
    "mpl.rcParams['text.usetex'] = True\n",
    "mpl.rcParams['font.family'] = 'serif'\n",
    "mpl.rcParams['axes.linewidth'] = 1.5\n",
    "mpl.rcParams['axes.xmargin'] = 1\n",
    "mpl.rcParams['xtick.labelsize'] = 'x-large'\n",
    "mpl.rcParams['xtick.major.size'] = 5\n",
    "mpl.rcParams['xtick.major.width'] = 1.5\n",
    "mpl.rcParams['ytick.labelsize'] = 'x-large'\n",
    "mpl.rcParams['ytick.major.size'] = 5\n",
    "mpl.rcParams['ytick.major.width'] = 1.5\n",
    "mpl.rcParams['legend.frameon'] = False\n",
    "%matplotlib inline"
   ]
  },
  {
   "cell_type": "code",
   "execution_count": 2,
   "metadata": {},
   "outputs": [
    {
     "name": "stdout",
     "output_type": "stream",
     "text": [
      "[13.62782978 13.35107792 13.07432606 12.7975742  12.52082234 12.24407048\n",
      " 11.96731862 11.69056676 11.4138149  11.13706304 10.86031118 10.58355932\n",
      " 10.30680746 10.03005561  9.75330375  9.47655189  9.19980003  8.92304817\n",
      "  8.64629631  8.36954445  8.09279259  7.81604073  7.53928887  7.26253701\n",
      "  6.98578515  6.70903329  6.43228143  6.15552958  5.87877772  5.60202586\n",
      "  5.325274    5.04852214  4.77177028  4.49501842  4.21826656  3.9415147\n",
      "  3.66476284  3.38801098  3.11125912  2.83450726  2.55775541  2.28100355\n",
      "  2.00425169  1.72749983  1.45074797  1.17399611  0.89724425  0.62049239\n",
      "  0.34374053  0.06698867]\n"
     ]
    }
   ],
   "source": [
    "# read in lookback time bins (binning for SFH)\n",
    "t_lookback = np.loadtxt('sfh_t_int.txt')\n",
    "print(t_lookback)"
   ]
  },
  {
   "cell_type": "code",
   "execution_count": 3,
   "metadata": {},
   "outputs": [
    {
     "name": "stdout",
     "output_type": "stream",
     "text": [
      "50 bins\n",
      "SFH basis has 4 components\n",
      "ZH basis has 2 components\n"
     ]
    }
   ],
   "source": [
    "# read in SFH and ZH bases\n",
    "nmf_sfh_basis = np.loadtxt('NMF_2basis_SFH_components_nowgt_lin_Nc4.txt')\n",
    "nmf_zh_basis = np.loadtxt('NMF_2basis_Z_components_nowgt_lin_Nc2.txt')\n",
    "Nbins = nmf_sfh_basis.shape[1]\n",
    "Ncomp_sfh = nmf_sfh_basis.shape[0]\n",
    "Ncomp_zh = nmf_zh_basis.shape[0]\n",
    "print(\"%i bins\" % Nbins)\n",
    "print(\"SFH basis has %i components\" % Ncomp_sfh)\n",
    "print(\"ZH basis has %i components\" % Ncomp_zh)"
   ]
  },
  {
   "cell_type": "code",
   "execution_count": 4,
   "metadata": {},
   "outputs": [],
   "source": [
    "# initalize fsps object\n",
    "ssp = fsps.StellarPopulation(\n",
    "    zcontinuous=1, # SSPs are interpolated to the value of logzsol before the spectra and magnitudes are computed\n",
    "    sfh=0, # single SSP\n",
    "    imf_type=1, # chabrier\n",
    "    dust_type=2 # Calzetti (2000) \n",
    "    )"
   ]
  },
  {
   "cell_type": "code",
   "execution_count": 5,
   "metadata": {},
   "outputs": [
    {
     "name": "stdout",
     "output_type": "stream",
     "text": [
      "pdva isochrone library\n",
      "miles spectral library\n"
     ]
    }
   ],
   "source": [
    "print('%s isochrone library' % ssp.isoc_library)\n",
    "print('%s spectral library' % ssp.spec_library) "
   ]
  },
  {
   "cell_type": "code",
   "execution_count": 6,
   "metadata": {},
   "outputs": [],
   "source": [
    "def sspLum(theta): \n",
    "    ''' FSPS wrapper that deals with NMF SFH and ZH basis and other parameters. \n",
    "    \n",
    "    :param theta: \n",
    "        numpy array that specifies parameters. \n",
    "        Indices 0 to Ncomp_sfh-1 specifies the SFH basis parameters. \n",
    "        Indices Ncomp_sfh to Ncomp_sfh + Ncomp_zh specifies the ZH basis parameters.\n",
    "        Index -1 specifes tau_ISM (dust) \n",
    "        \n",
    "    :return wave_rest\n",
    "        rest-frame wavelength grid provided by FSPS\n",
    "        \n",
    "    :return lum_ssp:\n",
    "        luminosity in uints of Lsun/AA of ssp. This can be converted to observed flux \n",
    "        of units erg/s/cm^2/Angstrom by multiplying x Lsun/(4pi dlum^2)/(1+z)\n",
    "    '''\n",
    "    theta_sfh = theta[:Ncomp_sfh]\n",
    "    theta_zh = theta[Ncomp_sfh:Ncomp_sfh+Ncomp_zh]\n",
    "    theta_dust = theta[-1] # dust parameter\n",
    "    sfh = np.dot(theta_sfh, nmf_sfh_basis)\n",
    "    zh = np.dot(theta_zh, nmf_zh_basis)\n",
    " \n",
    "    for i, t, m, z in zip(range(len(t_lookback)), t_lookback, sfh, zh): \n",
    "        if m <= 0: # no star formation in this bin \n",
    "            continue\n",
    "        ssp.params['logzsol'] = np.log10(z/0.0190) # log(Z/Zsun)\n",
    "        ssp.params['dust2'] = theta_dust \n",
    "        wave_rest, lum_i = ssp.get_spectrum(tage=t, peraa=True) # in units of Lsun/AA\n",
    "        if i == 0: lum_ssp = np.zeros(len(wave_rest))\n",
    "        lum_ssp += m * lum_i \n",
    "    return wave_rest, lum_ssp"
   ]
  },
  {
   "cell_type": "code",
   "execution_count": 7,
   "metadata": {},
   "outputs": [],
   "source": [
    "zh_maxprior = 0.04 \n",
    "zh_max = zh_maxprior/np.max(nmf_zh_basis)"
   ]
  },
  {
   "cell_type": "code",
   "execution_count": 8,
   "metadata": {},
   "outputs": [
    {
     "name": "stdout",
     "output_type": "stream",
     "text": [
      "('prior lower bounds: ', array([0., 0., 0., 0., 0., 0., 0., 0., 0.]))\n",
      "('prior upper bounds: ', array([5.0000000e+01, 5.0000000e+01, 5.0000000e+01, 5.0000000e+01,\n",
      "       7.3282264e-03, 7.3282264e-03, 7.3282264e-03, 7.3282264e-03,\n",
      "       1.0000000e-04]))\n"
     ]
    }
   ],
   "source": [
    "prior_min = np.zeros(9) \n",
    "prior_max = np.array([50., 50., 50., 50., zh_max, zh_max, zh_max, zh_max, 1e-4])\n",
    "\n",
    "print('prior lower bounds: ', prior_min)\n",
    "print('prior upper bounds: ', prior_max)"
   ]
  },
  {
   "cell_type": "code",
   "execution_count": 9,
   "metadata": {},
   "outputs": [],
   "source": [
    "# test out how the spectra would look for a M* = 10^9.73 at z=0.1\n",
    "zred = 0.1\n",
    "d_lum = Planck13.luminosity_distance(zred).to(U.cm).value # luminosity distance in cm\n",
    "factor_flux = UT.Lsun() / (4. * np.pi * d_lum**2) / (1. + zred) # luminosity to flux\n",
    "Mstar = 10**9.73"
   ]
  },
  {
   "cell_type": "code",
   "execution_count": 10,
   "metadata": {},
   "outputs": [
    {
     "name": "stderr",
     "output_type": "stream",
     "text": [
      "/anaconda2/lib/python2.7/site-packages/ipykernel_launcher.py:26: RuntimeWarning: divide by zero encountered in log10\n"
     ]
    },
    {
     "data": {
      "text/plain": [
       "Text(0,0.5,'metallicity, $Z$')"
      ]
     },
     "execution_count": 10,
     "metadata": {},
     "output_type": "execute_result"
    },
    {
     "data": {
      "image/png": "[encoded data removed]",
      "text/plain": [
       "<Figure size 864x720 with 3 Axes>"
      ]
     },
     "metadata": {
      "needs_background": "light"
     },
     "output_type": "display_data"
    }
   ],
   "source": [
    "fig = plt.figure(figsize=(12, 10))\n",
    "gs = mpl.gridspec.GridSpec(2,2, figure=fig)\n",
    "# plot spectra\n",
    "sub = plt.subplot(gs[0,:])\n",
    "tt_i = (prior_max - prior_min) * np.random.uniform(size=len(prior_min))\n",
    "tt_i[:6] = np.array([1.4, 2.5, 3., 3., 0.003, 0.003])\n",
    "w, lum_i = sspLum(tt_i)\n",
    "wobs = w * (1. + zred)\n",
    "norm = Mstar / np.sum(lum_i)\n",
    "flux = lum_i * norm * factor_flux\n",
    "sub.plot(wobs, flux, c='C0')\n",
    "sub.set_xlabel('observed-frame wavelength [$A$]', fontsize=20)\n",
    "sub.set_xlim(3e3, 1e4)\n",
    "sub.set_ylabel('flux [$erg/s/cm^2/A$]', fontsize=25)\n",
    "sub.set_ylim(0, 1e-15)\n",
    "# plot SFH\n",
    "sub = plt.subplot(gs[1,0]) # SFH\n",
    "sfh = np.dot(tt_i[:Ncomp_sfh], nmf_sfh_basis)\n",
    "sub.plot(t_lookback, sfh * norm)\n",
    "sub.set_xlabel('lookback time [Gyr]', fontsize=20)\n",
    "sub.set_xlim(0, 13)\n",
    "sub.set_ylabel(r'SFH [$M_\\odot$]', fontsize=20)\n",
    "sub.set_yscale('log')\n",
    "sub.set_ylim(1e7, 1e9)\n",
    "# plot SFH\n",
    "sub = plt.subplot(gs[1,1]) # SFH\n",
    "zh = np.dot(tt_i[Ncomp_sfh:Ncomp_sfh+Ncomp_zh], nmf_zh_basis)\n",
    "sub.plot(t_lookback, zh)\n",
    "sub.set_xlabel('lookback time [Gyr]', fontsize=20)\n",
    "sub.set_xlim(0, 13)\n",
    "sub.set_yscale('log')\n",
    "sub.set_ylabel(\"metallicity, $Z$\", fontsize=20)"
   ]
  },
  {
   "cell_type": "code",
   "execution_count": null,
   "metadata": {},
   "outputs": [],
   "source": []
  },
  {
   "cell_type": "code",
   "execution_count": null,
   "metadata": {},
   "outputs": [],
   "source": []
  }
 ],
 "metadata": {
  "kernelspec": {
   "display_name": "Python 2",
   "language": "python",
   "name": "python2"
  },
  "language_info": {
   "codemirror_mode": {
    "name": "ipython",
    "version": 2
   },
   "file_extension": ".py",
   "mimetype": "text/x-python",
   "name": "python",
   "nbconvert_exporter": "python",
   "pygments_lexer": "ipython2",
   "version": "2.7.15"
  }
 },
 "nbformat": 4,
 "nbformat_minor": 2
}
