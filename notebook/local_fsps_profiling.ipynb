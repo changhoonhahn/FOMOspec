{
 "cells": [
  {
   "cell_type": "code",
   "execution_count": 1,
   "metadata": {},
   "outputs": [],
   "source": [
    "import fsps\n",
    "import numpy as np "
   ]
  },
  {
   "cell_type": "code",
   "execution_count": 2,
   "metadata": {},
   "outputs": [],
   "source": [
    "import matplotlib.pyplot as plt"
   ]
  },
  {
   "cell_type": "code",
   "execution_count": 3,
   "metadata": {},
   "outputs": [
    {
     "name": "stdout",
     "output_type": "stream",
     "text": [
      "1 loop, best of 3: 19.7 s per loop\n"
     ]
    }
   ],
   "source": [
    "%%timeit\n",
    "for tage, logz in zip(np.linspace(1., 5, 10), np.linspace(-2, 0, 10)): \n",
    "    sp0 = fsps.StellarPopulation(zcontinuous=1, sfh=0, logzsol=logz, imf_type=1)\n",
    "    w, lum = sp0.get_spectrum(tage=tage, peraa=True)"
   ]
  },
  {
   "cell_type": "code",
   "execution_count": 7,
   "metadata": {},
   "outputs": [],
   "source": [
    "ws, lums = [], [] \n",
    "for tage, logz in zip(np.linspace(1., 5, 10), np.linspace(-2, 0, 10)): \n",
    "    sp0 = fsps.StellarPopulation(zcontinuous=1, sfh=0, logzsol=logz, imf_type=1)\n",
    "    w, lum = sp0.get_spectrum(tage=tage, peraa=True)\n",
    "    ws.append(w)\n",
    "    lums.append(lum)"
   ]
  },
  {
   "cell_type": "code",
   "execution_count": 4,
   "metadata": {},
   "outputs": [
    {
     "name": "stdout",
     "output_type": "stream",
     "text": [
      "1 loop, best of 3: 18.4 s per loop\n"
     ]
    }
   ],
   "source": [
    "%%timeit\n",
    "_sp = fsps.StellarPopulation(zcontinuous=1, sfh=0, logzsol=-1., imf_type=1)\n",
    "for tage, logz in zip(np.linspace(1., 5, 10), np.linspace(-2, 0, 10)): \n",
    "    _sp.params['logzsol'] = logz\n",
    "    _w, _lum = _sp.get_spectrum(tage=tage, peraa=True)"
   ]
  },
  {
   "cell_type": "code",
   "execution_count": 9,
   "metadata": {},
   "outputs": [],
   "source": [
    "_ws, _lums = [], [] \n",
    "_sp = fsps.StellarPopulation(zcontinuous=1, sfh=0, logzsol=-1., imf_type=1)\n",
    "for tage, logz in zip(np.linspace(1., 5, 10), np.linspace(-2, 0, 10)): \n",
    "    _sp.params['logzsol'] = logz\n",
    "    _w, _lum = _sp.get_spectrum(tage=tage, peraa=True)\n",
    "    _ws.append(_w)\n",
    "    _lums.append(_lum)"
   ]
  },
  {
   "cell_type": "code",
   "execution_count": 11,
   "metadata": {},
   "outputs": [
    {
     "name": "stdout",
     "output_type": "stream",
     "text": [
      "0.0\n",
      "0.0\n",
      "0.0\n",
      "0.0\n",
      "0.0\n",
      "0.0\n",
      "0.0\n",
      "0.0\n",
      "0.0\n",
      "0.0\n"
     ]
    }
   ],
   "source": [
    "for lumi, _lumi in zip(lums, _lums): \n",
    "    print np.sum(lumi - _lumi)"
   ]
  },
  {
   "cell_type": "code",
   "execution_count": null,
   "metadata": {},
   "outputs": [],
   "source": []
  }
 ],
 "metadata": {
  "kernelspec": {
   "display_name": "Python 2",
   "language": "python",
   "name": "python2"
  },
  "language_info": {
   "codemirror_mode": {
    "name": "ipython",
    "version": 2
   },
   "file_extension": ".py",
   "mimetype": "text/x-python",
   "name": "python",
   "nbconvert_exporter": "python",
   "pygments_lexer": "ipython2",
   "version": "2.7.15"
  }
 },
 "nbformat": 4,
 "nbformat_minor": 2
}
